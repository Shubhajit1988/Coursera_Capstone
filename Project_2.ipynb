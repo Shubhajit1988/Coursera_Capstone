{
  "nbformat": 4,
  "nbformat_minor": 0,
  "metadata": {
    "colab": {
      "name": "Project 2.ipynb",
      "provenance": [],
      "mount_file_id": "1U4lxvv4XpxFcPrt1IAPjZUYrdnVACKBB",
      "authorship_tag": "ABX9TyOBObzFIw1s64p/RaB5We5x",
      "include_colab_link": true
    },
    "kernelspec": {
      "name": "python3",
      "display_name": "Python 3"
    }
  },
  "cells": [
    {
      "cell_type": "markdown",
      "metadata": {
        "id": "view-in-github",
        "colab_type": "text"
      },
      "source": [
        "<a href=\"https://colab.research.google.com/github/Shubhajit1988/Coursera_Capstone/blob/master/Project_2.ipynb\" target=\"_parent\"><img src=\"https://colab.research.google.com/assets/colab-badge.svg\" alt=\"Open In Colab\"/></a>"
      ]
    },
    {
      "cell_type": "markdown",
      "metadata": {
        "id": "W9ZRJbDDYUlO",
        "colab_type": "text"
      },
      "source": [
        "Importing library"
      ]
    },
    {
      "cell_type": "code",
      "metadata": {
        "id": "FgJvZZ6IYRuX",
        "colab_type": "code",
        "colab": {}
      },
      "source": [
        "import os\n",
        "import numpy as np\n",
        "import torch\n",
        "import torch.nn as nn\n",
        "import torch.nn.functional as F\n",
        "from torch.autograd import Variable\n",
        "import torch.utils.data as data\n",
        "import torchvision\n",
        "from torchvision import transforms\n",
        "import matplotlib.pyplot as plt "
      ],
      "execution_count": 0,
      "outputs": []
    },
    {
      "cell_type": "markdown",
      "metadata": {
        "id": "rRgPcGtMYfD2",
        "colab_type": "text"
      },
      "source": [
        "Downloading Data"
      ]
    },
    {
      "cell_type": "code",
      "metadata": {
        "id": "8O3Gd54xq2es",
        "colab_type": "code",
        "colab": {}
      },
      "source": [
        "apply_transform = transforms.Compose([transforms.Resize((224,224)),transforms.ToTensor()])\n",
        "BatchSize = 100\n",
        "\n",
        "DATA_PATH = \"/content/drive/My Drive/covid\"\n",
        "\n",
        "\n",
        "Dataset = torchvision.datasets.ImageFolder(root=DATA_PATH, transform=apply_transform)"
      ],
      "execution_count": 0,
      "outputs": []
    },
    {
      "cell_type": "code",
      "metadata": {
        "id": "4flvWV3cq9dS",
        "colab_type": "code",
        "colab": {}
      },
      "source": [
        "file_list1 = os.listdir(\"/content/drive/My Drive/covid/Figure1-COVID-chestxray-dataset-master/images\")\n",
        "file_list2=os.listdir(\"/content/drive/My Drive/covid/covid-chestxray-dataset-master/images\")\n",
        "file_list3=os.listdir(\"/content/drive/My Drive/covid/Covid19action-radiology-CXR_v1.1/images/Source2\")\n",
        "file_list4=os.listdir(\"/content/drive/My Drive/covid/Covid19action-radiology-CXR_v1.1/images/Source7\")\n",
        "file_list=file_list1+file_list2+file_list3+file_list4"
      ],
      "execution_count": 0,
      "outputs": []
    },
    {
      "cell_type": "code",
      "metadata": {
        "id": "WfqNkFrprESJ",
        "colab_type": "code",
        "outputId": "75066d79-5fe5-4e8b-fb7a-dee0bb9d2f90",
        "colab": {
          "base_uri": "https://localhost:8080/",
          "height": 156
        }
      },
      "source": [
        "!pip install panda\n",
        "import pandas as pd"
      ],
      "execution_count": 0,
      "outputs": [
        {
          "output_type": "stream",
          "text": [
            "Requirement already satisfied: panda in /usr/local/lib/python3.6/dist-packages (0.3.1)\n",
            "Requirement already satisfied: setuptools in /usr/local/lib/python3.6/dist-packages (from panda) (46.3.0)\n",
            "Requirement already satisfied: requests in /usr/local/lib/python3.6/dist-packages (from panda) (2.23.0)\n",
            "Requirement already satisfied: idna<3,>=2.5 in /usr/local/lib/python3.6/dist-packages (from requests->panda) (2.9)\n",
            "Requirement already satisfied: urllib3!=1.25.0,!=1.25.1,<1.26,>=1.21.1 in /usr/local/lib/python3.6/dist-packages (from requests->panda) (1.24.3)\n",
            "Requirement already satisfied: certifi>=2017.4.17 in /usr/local/lib/python3.6/dist-packages (from requests->panda) (2020.4.5.1)\n",
            "Requirement already satisfied: chardet<4,>=3.0.2 in /usr/local/lib/python3.6/dist-packages (from requests->panda) (3.0.4)\n"
          ],
          "name": "stdout"
        }
      ]
    },
    {
      "cell_type": "code",
      "metadata": {
        "id": "HbXPCraFrG5d",
        "colab_type": "code",
        "colab": {}
      },
      "source": [
        "new_file_list=sorted(file_list)"
      ],
      "execution_count": 0,
      "outputs": []
    },
    {
      "cell_type": "markdown",
      "metadata": {
        "id": "dkSInna9YnQI",
        "colab_type": "text"
      },
      "source": [
        "Data Preprocessing"
      ]
    },
    {
      "cell_type": "code",
      "metadata": {
        "id": "s_hZ-zQbrNIS",
        "colab_type": "code",
        "colab": {}
      },
      "source": [
        "processed_data=[]\n",
        "for i in range(len(file_list)):\n",
        "  wb=pd.read_csv('/content/drive/My Drive/covid/Train_Combined.csv',index_col='Image Name')\n",
        "  wb1=pd.read_csv('/content/drive/My Drive/covid/Train_Combined.csv')\n",
        "  x=wb1['Image Name'].str.contains(file_list[i]).sum()\n",
        "  if x==1:\n",
        "    a=wb.loc[file_list[i]][2]\n",
        "    b=wb.loc[file_list[i]][3]\n",
        "    c=wb.loc[file_list[i]][4]\n",
        "    if a==1:\n",
        "      processed_data.append([Dataset[i][0],0])\n",
        "    elif b==1:\n",
        "      processed_data.append([Dataset[i][0],1])\n",
        "    elif c==1:\n",
        "      processed_data.append([Dataset[i][0],2])\n"
      ],
      "execution_count": 0,
      "outputs": []
    },
    {
      "cell_type": "markdown",
      "metadata": {
        "id": "S0jxvgKCYsVd",
        "colab_type": "text"
      },
      "source": [
        "Build Model"
      ]
    },
    {
      "cell_type": "code",
      "metadata": {
        "id": "hvEh2Hv-rU15",
        "colab_type": "code",
        "colab": {}
      },
      "source": [
        "class model(nn.Module):\n",
        "    def __init__(self):\n",
        "        super(model, self).__init__()\n",
        "        self.conv1 = nn.Conv2d(3, 6, kernel_size=5)\n",
        "        self.pool1 = nn.MaxPool2d(kernel_size=2,stride=2)\n",
        "        self.conv2 = nn.Conv2d(6, 10, kernel_size=5)\n",
        "        self.pool2 = nn.MaxPool2d(kernel_size=2,stride=2)\n",
        "        self.conv3 = nn.Conv2d(10, 16, kernel_size=6)\n",
        "        self.pool3 = nn.MaxPool2d(kernel_size=2,stride=2) \n",
        "        self.conv4 = nn.Conv2d(16, 16, kernel_size=5)\n",
        "        self.pool4 = nn.MaxPool2d(kernel_size=4,stride=4)       \n",
        "        self.fc1 = nn.Linear(400, 120)\n",
        "        self.fc2 = nn.Linear(120, 84)\n",
        "        self.fc3 = nn.Linear(84, 10)\n",
        "\n",
        "    def forward(self, x):\n",
        "        x = F.relu(self.conv1(x))\n",
        "        x = self.pool1(x)\n",
        "        x = F.relu(self.conv2(x))\n",
        "        x = self.pool2(x)\n",
        "        x = F.relu(self.conv3(x))\n",
        "        x = self.pool3(x)\n",
        "        x = F.relu(self.conv4(x))\n",
        "        x = self.pool4(x)\n",
        "        x = x.view(-1, 400)\n",
        "        x = F.relu(self.fc1(x)) \n",
        "        x = F.relu(self.fc2(x))\n",
        "        x = self.fc3(x)\n",
        "        return F.log_softmax(x,dim=1)"
      ],
      "execution_count": 0,
      "outputs": []
    },
    {
      "cell_type": "markdown",
      "metadata": {
        "id": "5NUYV38SYzeh",
        "colab_type": "text"
      },
      "source": [
        "Data Loading"
      ]
    },
    {
      "cell_type": "code",
      "metadata": {
        "id": "BCMK7H5orZpA",
        "colab_type": "code",
        "colab": {}
      },
      "source": [
        "import sklearn\n",
        "from sklearn import model_selection\n",
        "\n",
        "training_dataset,test_dataset=model_selection.train_test_split(processed_data,train_size=0.8,random_state=1)\n",
        "trainLoader = torch.utils.data.DataLoader(training_dataset, batch_size=BatchSize,shuffle=True, num_workers=4) # Creating dataloader\n",
        "testLoader = torch.utils.data.DataLoader(test_dataset, batch_size=BatchSize,shuffle=True, num_workers=4) # Creating dataloader\n"
      ],
      "execution_count": 0,
      "outputs": []
    },
    {
      "cell_type": "markdown",
      "metadata": {
        "id": "44ddZv_-Y40M",
        "colab_type": "text"
      },
      "source": [
        "Model Summary"
      ]
    },
    {
      "cell_type": "code",
      "metadata": {
        "id": "lQWOyFvPrcdS",
        "colab_type": "code",
        "outputId": "a0f09c54-f7e1-47e8-860e-141f99b5bcd1",
        "colab": {
          "base_uri": "https://localhost:8080/",
          "height": 238
        }
      },
      "source": [
        "use_gpu = torch.cuda.is_available()\n",
        "net = model()\n",
        "print(net)\n",
        "if use_gpu:\n",
        "    print('GPU is avaialble!')\n",
        "    net = net.cuda()"
      ],
      "execution_count": 62,
      "outputs": [
        {
          "output_type": "stream",
          "text": [
            "model(\n",
            "  (conv1): Conv2d(3, 6, kernel_size=(5, 5), stride=(1, 1))\n",
            "  (pool1): MaxPool2d(kernel_size=2, stride=2, padding=0, dilation=1, ceil_mode=False)\n",
            "  (conv2): Conv2d(6, 10, kernel_size=(5, 5), stride=(1, 1))\n",
            "  (pool2): MaxPool2d(kernel_size=2, stride=2, padding=0, dilation=1, ceil_mode=False)\n",
            "  (conv3): Conv2d(10, 16, kernel_size=(6, 6), stride=(1, 1))\n",
            "  (pool3): MaxPool2d(kernel_size=2, stride=2, padding=0, dilation=1, ceil_mode=False)\n",
            "  (conv4): Conv2d(16, 16, kernel_size=(5, 5), stride=(1, 1))\n",
            "  (pool4): MaxPool2d(kernel_size=4, stride=4, padding=0, dilation=1, ceil_mode=False)\n",
            "  (fc1): Linear(in_features=400, out_features=120, bias=True)\n",
            "  (fc2): Linear(in_features=120, out_features=84, bias=True)\n",
            "  (fc3): Linear(in_features=84, out_features=10, bias=True)\n",
            ")\n"
          ],
          "name": "stdout"
        }
      ]
    },
    {
      "cell_type": "code",
      "metadata": {
        "id": "CCiZqThFrepf",
        "colab_type": "code",
        "colab": {}
      },
      "source": [
        "import torch.optim as optim\n",
        "optimizer = optim.SGD(net.parameters(), lr=0.2)"
      ],
      "execution_count": 0,
      "outputs": []
    },
    {
      "cell_type": "markdown",
      "metadata": {
        "id": "97Y77JGnY9_c",
        "colab_type": "text"
      },
      "source": [
        "Executing Model"
      ]
    },
    {
      "cell_type": "code",
      "metadata": {
        "id": "awjuS6FmrhrK",
        "colab_type": "code",
        "outputId": "c1363f1c-ab99-4055-d470-77e8292baf8f",
        "colab": {
          "base_uri": "https://localhost:8080/",
          "height": 1000
        }
      },
      "source": [
        "import torch.optim as optim\n",
        "optimizer = optim.SGD(net.parameters(), lr=0.15)\n",
        "criterion = nn.CrossEntropyLoss() \n",
        "\n",
        "num_epochs = 30\n",
        "\n",
        "train_loss = []\n",
        "\n",
        "test_loss=[]\n",
        "\n",
        "for epoch in range(num_epochs):\n",
        "    \n",
        "    running_loss = 0.0 \n",
        "    running_corr = 0\n",
        "        \n",
        "    for i,data in enumerate(trainLoader):\n",
        "        inputs,labels = data\n",
        "        if use_gpu:\n",
        "            inputs, labels = inputs.cuda(),labels.cuda() \n",
        "        # Initializing model gradients to zero\n",
        "        net.zero_grad() \n",
        "        # Data feed-forward through the network\n",
        "        outputs = net(inputs)\n",
        "        # Predicted class is the one with maximum probability\n",
        "        preds = torch.argmax(outputs,dim=1)\n",
        "        # Finding the loss\n",
        "        loss = criterion(outputs, labels)\n",
        "        # Accumulating the loss for each batch\n",
        "        running_loss += loss \n",
        "            \n",
        "        \n",
        "    totalLoss = running_loss/(i+1)\n",
        "    # Calculating gradients\n",
        "    totalLoss.backward()\n",
        "    optimizer.step()\n",
        "    \n",
        "        \n",
        "    epoch_loss_train = running_loss.item()/(i+1)   #Total loss for one epoch\n",
        "  \n",
        "         \n",
        "    train_loss.append(epoch_loss_train) #Saving the loss over epochs for plotting the graph\n",
        "    #train_acc.append(epoch_acc) #Saving the accuracy over epochs for plotting the graph\n",
        "\n",
        "    \n",
        "    \n",
        "    for i,data in enumerate(testLoader):\n",
        "        inputs,labels = data\n",
        "        if use_gpu:\n",
        "            inputs, labels = inputs.cuda(),labels.cuda()\n",
        "            net.zero_grad()\n",
        "            outputs = net(inputs)\n",
        "            # Predicted class is the one with maximum probability\n",
        "            preds = torch.argmax(outputs,dim=1)\n",
        "            # Finding the loss\n",
        "            loss = criterion(outputs, labels)\n",
        "            # Accumulating the loss for each batch\n",
        "            running_loss=running_loss+loss\n",
        "              \n",
        "        \n",
        "    totalLoss = running_loss/(i+1)\n",
        "    epoch_loss_test = running_loss/(i+1)   #Total loss for one epoch\n",
        "    #epoch_loss_test = running_loss.item()/(i+1)\n",
        "    \n",
        "    test_loss.append(epoch_loss_test)\n",
        "\n",
        "        \n",
        "    print('Epoch {:.0f}/{:.0f} : Training loss: {:.4f}'.format(epoch+1,num_epochs,epoch_loss_train))\n",
        "    print('Epoch {:.0f}/{:.0f} : Test loss: {:.4f}|'.format(epoch+1,num_epochs,epoch_loss_test))\n",
        "\n",
        "\n",
        "fig = plt.figure(figsize=[15,5]) \n",
        "plt.subplot(1,2,1)\n",
        "plt.plot(range(30),train_loss,'r-',label='train_Loss')  \n",
        "plt.legend(loc='upper right')\n",
        "plt.xlabel('Epochs')\n",
        "plt.ylabel('Training')\n",
        "plt.title('training loss')\n",
        "\n",
        "plt.subplot(1,2,2)\n",
        "plt.plot(range(30),test_loss,'b-',label='test_Loss') \n",
        "plt.legend(loc='upper right')\n",
        "plt.xlabel('Epochs')\n",
        "plt.ylabel('Testing')\n",
        "plt.title('testing loss')"
      ],
      "execution_count": 81,
      "outputs": [
        {
          "output_type": "stream",
          "text": [
            "Epoch 1/30 : Training loss: 1.1290\n",
            "Epoch 1/30 : Test loss: 2.2580|\n",
            "Epoch 2/30 : Training loss: 1.0505\n",
            "Epoch 2/30 : Test loss: 2.1010|\n",
            "Epoch 3/30 : Training loss: 1.0245\n",
            "Epoch 3/30 : Test loss: 2.0490|\n",
            "Epoch 4/30 : Training loss: 0.9662\n",
            "Epoch 4/30 : Test loss: 1.9324|\n",
            "Epoch 5/30 : Training loss: 0.9277\n",
            "Epoch 5/30 : Test loss: 1.8555|\n",
            "Epoch 6/30 : Training loss: 0.8767\n",
            "Epoch 6/30 : Test loss: 1.7534|\n",
            "Epoch 7/30 : Training loss: 0.8936\n",
            "Epoch 7/30 : Test loss: 1.7872|\n",
            "Epoch 8/30 : Training loss: 0.8382\n",
            "Epoch 8/30 : Test loss: 1.6764|\n",
            "Epoch 9/30 : Training loss: 0.8583\n",
            "Epoch 9/30 : Test loss: 1.7166|\n",
            "Epoch 10/30 : Training loss: 0.8112\n",
            "Epoch 10/30 : Test loss: 1.6225|\n",
            "Epoch 11/30 : Training loss: 0.8163\n",
            "Epoch 11/30 : Test loss: 1.6326|\n",
            "Epoch 12/30 : Training loss: 0.7630\n",
            "Epoch 12/30 : Test loss: 1.5261|\n",
            "Epoch 13/30 : Training loss: 0.7486\n",
            "Epoch 13/30 : Test loss: 1.4972|\n",
            "Epoch 14/30 : Training loss: 0.7512\n",
            "Epoch 14/30 : Test loss: 1.5023|\n",
            "Epoch 15/30 : Training loss: 0.7398\n",
            "Epoch 15/30 : Test loss: 1.4795|\n",
            "Epoch 16/30 : Training loss: 0.7435\n",
            "Epoch 16/30 : Test loss: 1.4870|\n",
            "Epoch 17/30 : Training loss: 0.7280\n",
            "Epoch 17/30 : Test loss: 1.4561|\n",
            "Epoch 18/30 : Training loss: 0.6894\n",
            "Epoch 18/30 : Test loss: 1.3788|\n",
            "Epoch 19/30 : Training loss: 0.6897\n",
            "Epoch 19/30 : Test loss: 1.3793|\n",
            "Epoch 20/30 : Training loss: 0.7444\n",
            "Epoch 20/30 : Test loss: 1.4888|\n",
            "Epoch 21/30 : Training loss: 0.7152\n",
            "Epoch 21/30 : Test loss: 1.4303|\n",
            "Epoch 22/30 : Training loss: 0.6811\n",
            "Epoch 22/30 : Test loss: 1.3622|\n",
            "Epoch 23/30 : Training loss: 0.6810\n",
            "Epoch 23/30 : Test loss: 1.3619|\n",
            "Epoch 24/30 : Training loss: 0.6721\n",
            "Epoch 24/30 : Test loss: 1.3442|\n",
            "Epoch 25/30 : Training loss: 0.6720\n",
            "Epoch 25/30 : Test loss: 1.3441|\n",
            "Epoch 26/30 : Training loss: 0.6677\n",
            "Epoch 26/30 : Test loss: 1.3354|\n",
            "Epoch 27/30 : Training loss: 0.6778\n",
            "Epoch 27/30 : Test loss: 1.3557|\n",
            "Epoch 28/30 : Training loss: 0.7008\n",
            "Epoch 28/30 : Test loss: 1.4016|\n",
            "Epoch 29/30 : Training loss: 0.6650\n",
            "Epoch 29/30 : Test loss: 1.3300|\n",
            "Epoch 30/30 : Training loss: 0.7021\n",
            "Epoch 30/30 : Test loss: 1.4041|\n"
          ],
          "name": "stdout"
        },
        {
          "output_type": "execute_result",
          "data": {
            "text/plain": [
              "Text(0.5, 1.0, 'testing loss')"
            ]
          },
          "metadata": {
            "tags": []
          },
          "execution_count": 81
        },
        {
          "output_type": "display_data",
          "data": {
            "image/png": "[encoded data removed]",
            "text/plain": [
              "<Figure size 1080x360 with 2 Axes>"
            ]
          },
          "metadata": {
            "tags": [],
            "needs_background": "light"
          }
        }
      ]
    },
    {
      "cell_type": "code",
      "metadata": {
        "id": "NodUTObluzFf",
        "colab_type": "code",
        "colab": {}
      },
      "source": [
        ""
      ],
      "execution_count": 0,
      "outputs": []
    }
  ]
}